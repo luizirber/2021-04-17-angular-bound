{
 "cells": [
  {
   "cell_type": "code",
   "execution_count": 119,
   "metadata": {},
   "outputs": [],
   "source": [
    "import numpy as np\n",
    "import math"
   ]
  },
  {
   "cell_type": "code",
   "execution_count": 120,
   "metadata": {},
   "outputs": [],
   "source": [
    "def angular_similarity(a, b, normalize=True):\n",
    "    if normalize:\n",
    "        norm_a = math.sqrt(sum([ x*x for x in a.values() ]))\n",
    "        norm_b = math.sqrt(sum([ x*x for x in b.values() ]))\n",
    "\n",
    "        if norm_a == 0.0 or norm_b == 0.0:\n",
    "            return 0.0\n",
    "    else:\n",
    "        norm_a = 1.0\n",
    "        norm_b = 1.0\n",
    "\n",
    "    prod = 0.\n",
    "    for k, abundance in a.items():\n",
    "        prod += (float(abundance) / norm_a) * (b.get(k, 0) / norm_b)\n",
    "    prod = min(1.0, prod)\n",
    "\n",
    "    distance = 2*math.acos(prod) / math.pi\n",
    "    return 1.0 - distance        \n",
    "\n",
    "def angular_similarity_ng(a, b, normalize=True):\n",
    "    # simulate a as ng\n",
    "    \n",
    "    a_sq = 0\n",
    "    b_sq = sum([ x*x for x in b.values() ])\n",
    "    \n",
    "    prod = 0.\n",
    "    for h, abund in b.items():\n",
    "        if a.get(h):\n",
    "            a_sq += 1\n",
    "            prod += abund * abund\n",
    "    \n",
    "    if normalize:\n",
    "        norm_a = math.sqrt(a_sq)\n",
    "        norm_b = math.sqrt(b_sq)\n",
    "        if norm_a == 0.0 or norm_b == 0.0:\n",
    "            return 0.0\n",
    "    else:\n",
    "        norm_a = 1.0\n",
    "        norm_b = 1.0\n",
    "    \n",
    "    prod = min(1.0, prod / (norm_a * norm_b))\n",
    "\n",
    "    distance = 2*math.acos(prod) / math.pi\n",
    "    return 1.0 - distance      "
   ]
  },
  {
   "cell_type": "code",
   "execution_count": 121,
   "metadata": {},
   "outputs": [],
   "source": [
    "a = {40: 10, 50: 5, 99: 1}\n",
    "b = {40: 2, 50: 2, 100: 10}"
   ]
  },
  {
   "cell_type": "code",
   "execution_count": 122,
   "metadata": {},
   "outputs": [
    {
     "data": {
      "text/plain": [
       "0.16558154864938834"
      ]
     },
     "execution_count": 122,
     "metadata": {},
     "output_type": "execute_result"
    }
   ],
   "source": [
    "angular_similarity(a, b)"
   ]
  },
  {
   "cell_type": "code",
   "execution_count": 123,
   "metadata": {},
   "outputs": [
    {
     "data": {
      "text/plain": [
       "0.5610031968200676"
      ]
     },
     "execution_count": 123,
     "metadata": {},
     "output_type": "execute_result"
    }
   ],
   "source": [
    "angular_similarity(a, {h:1 for h in b})"
   ]
  },
  {
   "cell_type": "code",
   "execution_count": 124,
   "metadata": {},
   "outputs": [
    {
     "data": {
      "text/plain": [
       "0.3664329116346875"
      ]
     },
     "execution_count": 124,
     "metadata": {},
     "output_type": "execute_result"
    }
   ],
   "source": [
    "angular_similarity_ng(a, b)"
   ]
  },
  {
   "cell_type": "markdown",
   "metadata": {},
   "source": [
    "## Checking if it works"
   ]
  },
  {
   "cell_type": "code",
   "execution_count": 151,
   "metadata": {},
   "outputs": [],
   "source": [
    "from hypothesis import given, strategies as st, settings, example\n",
    "\n",
    "EPSILON = 1e-3"
   ]
  },
  {
   "cell_type": "code",
   "execution_count": 154,
   "metadata": {},
   "outputs": [],
   "source": [
    "@settings(max_examples=50000)\n",
    "@given(st.dictionaries(st.integers(min_value=1, max_value=10000), st.integers(min_value=1)),\n",
    "       st.dictionaries(st.integers(min_value=1, max_value=10000), st.integers(min_value=1)))\n",
    "@example({1: 1, 2: 2}, {1: 1, 2: 2})\n",
    "@example({1: 1, 2: 1}, {1: 1, 2: 1, 3: 1})\n",
    "@example({1: 1, 2: 1}, {1: 1})\n",
    "def test(a, b):\n",
    "    a_s = angular_similarity(a, b)\n",
    "    a_s_ng = angular_similarity_ng(a, b)\n",
    "    assert a_s <= a_s_ng + EPSILON, (a_s, a_s_ng)"
   ]
  },
  {
   "cell_type": "code",
   "execution_count": 155,
   "metadata": {},
   "outputs": [],
   "source": [
    "test()"
   ]
  },
  {
   "cell_type": "markdown",
   "metadata": {},
   "source": [
    "## Fixing a_sq calculation"
   ]
  },
  {
   "cell_type": "code",
   "execution_count": 156,
   "metadata": {},
   "outputs": [],
   "source": [
    "def angular_similarity_ng_mk2(a, b, normalize=True):\n",
    "    # simulate a as ng\n",
    "    \n",
    "    a_sq = 0\n",
    "    b_sq = sum([ x*x for x in b.values() ])\n",
    "    \n",
    "    prod = 0.\n",
    "    for h, abund in b.items():\n",
    "        if a.get(h):\n",
    "            a_sq += abund * abund\n",
    "            prod += abund * abund\n",
    "    \n",
    "    if normalize:\n",
    "        norm_a = math.sqrt(a_sq)\n",
    "        norm_b = math.sqrt(b_sq)\n",
    "        if norm_a == 0.0 or norm_b == 0.0:\n",
    "            return 0.0\n",
    "    else:\n",
    "        norm_a = 1.0\n",
    "        norm_b = 1.0\n",
    "    \n",
    "    prod = min(1.0, prod / (norm_a * norm_b))\n",
    "\n",
    "    distance = 2*math.acos(prod) / math.pi\n",
    "    return 1.0 - distance "
   ]
  },
  {
   "cell_type": "code",
   "execution_count": 157,
   "metadata": {},
   "outputs": [],
   "source": [
    "@settings(max_examples=50000)\n",
    "@given(st.dictionaries(st.integers(min_value=1, max_value=10000), st.integers(min_value=1)),\n",
    "       st.dictionaries(st.integers(min_value=1, max_value=10000), st.integers(min_value=1)))\n",
    "@example({1: 1, 2: 2}, {1: 1, 2: 2})\n",
    "@example({1: 1, 2: 1}, {1: 1, 2: 1, 3: 1})\n",
    "@example({1: 1, 2: 1}, {1: 1})\n",
    "def test(a, b):\n",
    "    a_s = angular_similarity(a, b)\n",
    "    a_s_ng = angular_similarity_ng_mk2(a, b)\n",
    "    assert a_s <= a_s_ng + EPSILON, (a_s, a_s_ng)"
   ]
  },
  {
   "cell_type": "code",
   "execution_count": 158,
   "metadata": {},
   "outputs": [],
   "source": [
    "test()"
   ]
  },
  {
   "cell_type": "code",
   "execution_count": null,
   "metadata": {},
   "outputs": [],
   "source": []
  }
 ],
 "metadata": {
  "kernelspec": {
   "display_name": "Python3 - mach-nix-jupyter",
   "language": "python",
   "name": "ipython_mach-nix-jupyter"
  },
  "language_info": {
   "codemirror_mode": {
    "name": "ipython",
    "version": 3
   },
   "file_extension": ".py",
   "mimetype": "text/x-python",
   "name": "python",
   "nbconvert_exporter": "python",
   "pygments_lexer": "ipython3",
   "version": "3.7.7"
  }
 },
 "nbformat": 4,
 "nbformat_minor": 4
}
