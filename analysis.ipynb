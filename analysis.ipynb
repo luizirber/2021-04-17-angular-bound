{
 "cells": [
  {
   "cell_type": "code",
   "execution_count": 1,
   "metadata": {},
   "outputs": [],
   "source": [
    "import math\n",
    "\n",
    "import numpy as np\n",
    "import pandas as pd"
   ]
  },
  {
   "cell_type": "code",
   "execution_count": 2,
   "metadata": {},
   "outputs": [],
   "source": [
    "def angular_similarity(a, b, normalize=True):\n",
    "    if normalize:\n",
    "        norm_a = math.sqrt(sum([ x*x for x in a.values() ]))\n",
    "        norm_b = math.sqrt(sum([ x*x for x in b.values() ]))\n",
    "\n",
    "        if norm_a == 0.0 or norm_b == 0.0:\n",
    "            return 0.0\n",
    "    else:\n",
    "        norm_a = 1.0\n",
    "        norm_b = 1.0\n",
    "\n",
    "    prod = 0.\n",
    "    for k, abundance in a.items():\n",
    "        prod += (float(abundance) / norm_a) * (b.get(k, 0) / norm_b)\n",
    "    prod = min(1.0, prod)\n",
    "\n",
    "    distance = 2*math.acos(prod) / math.pi\n",
    "    return 1.0 - distance        \n",
    "\n",
    "def angular_similarity_ng(a, b, normalize=True):\n",
    "    # simulate a as ng\n",
    "    \n",
    "    a_sq = 0\n",
    "    b_sq = sum([ x*x for x in b.values() ])\n",
    "    \n",
    "    prod = 0.\n",
    "    for h, abund in b.items():\n",
    "        if a.get(h):\n",
    "            a_sq += 1\n",
    "            prod += abund * abund\n",
    "    \n",
    "    if normalize:\n",
    "        norm_a = math.sqrt(a_sq)\n",
    "        norm_b = math.sqrt(b_sq)\n",
    "        if norm_a == 0.0 or norm_b == 0.0:\n",
    "            return 0.0\n",
    "    else:\n",
    "        norm_a = 1.0\n",
    "        norm_b = 1.0\n",
    "    \n",
    "    prod = min(1.0, prod / (norm_a * norm_b))\n",
    "\n",
    "    distance = 2*math.acos(prod) / math.pi\n",
    "    return 1.0 - distance      "
   ]
  },
  {
   "cell_type": "code",
   "execution_count": 3,
   "metadata": {},
   "outputs": [],
   "source": [
    "a = {40: 10, 50: 5, 99: 1}\n",
    "b = {40: 2, 50: 2, 100: 10}"
   ]
  },
  {
   "cell_type": "code",
   "execution_count": 4,
   "metadata": {},
   "outputs": [
    {
     "data": {
      "text/plain": [
       "0.16558154864938834"
      ]
     },
     "execution_count": 4,
     "metadata": {},
     "output_type": "execute_result"
    }
   ],
   "source": [
    "angular_similarity(a, b)"
   ]
  },
  {
   "cell_type": "code",
   "execution_count": 5,
   "metadata": {},
   "outputs": [
    {
     "data": {
      "text/plain": [
       "0.5610031968200676"
      ]
     },
     "execution_count": 5,
     "metadata": {},
     "output_type": "execute_result"
    }
   ],
   "source": [
    "angular_similarity(a, {h:1 for h in b})"
   ]
  },
  {
   "cell_type": "code",
   "execution_count": 6,
   "metadata": {},
   "outputs": [
    {
     "data": {
      "text/plain": [
       "0.3664329116346875"
      ]
     },
     "execution_count": 6,
     "metadata": {},
     "output_type": "execute_result"
    }
   ],
   "source": [
    "angular_similarity_ng(a, b)"
   ]
  },
  {
   "cell_type": "markdown",
   "metadata": {},
   "source": [
    "## Checking if it works"
   ]
  },
  {
   "cell_type": "code",
   "execution_count": 7,
   "metadata": {},
   "outputs": [],
   "source": [
    "from hypothesis import given, strategies as st, settings, example\n",
    "\n",
    "EPSILON = 1e-3"
   ]
  },
  {
   "cell_type": "code",
   "execution_count": 8,
   "metadata": {},
   "outputs": [],
   "source": [
    "samples = []\n",
    "total_samples = 0\n",
    "\n",
    "@settings(max_examples=5000)\n",
    "@given(\n",
    "    st.dictionaries(st.integers(min_value=1, max_value=10000),\n",
    "                    st.integers(min_value=1, max_value=255),\n",
    "                    min_size=100),\n",
    "    st.dictionaries(st.integers(min_value=1, max_value=10000),\n",
    "                    st.integers(min_value=1, max_value=255),\n",
    "                    min_size=100)\n",
    ")\n",
    "@example({1: 1, 2: 2}, {1: 1, 2: 2})\n",
    "@example({1: 1, 2: 1}, {1: 1, 2: 1, 3: 1})\n",
    "@example({1: 1, 2: 1}, {1: 1})\n",
    "def test(a, b):\n",
    "    global total_samples\n",
    "    a_s = angular_similarity(a, b)\n",
    "    a_s_ng = angular_similarity_ng(a, b)\n",
    "    total_samples += 1\n",
    "    if a_s >= 0.1 and abs(a_s - a_s_ng) > EPSILON:\n",
    "        samples.append((a_s, a_s_ng, a, b, abs(a_s - a_s_ng)))\n",
    "    assert a_s <= a_s_ng + EPSILON, (a_s, a_s_ng)"
   ]
  },
  {
   "cell_type": "code",
   "execution_count": 9,
   "metadata": {},
   "outputs": [],
   "source": [
    "test()"
   ]
  },
  {
   "cell_type": "code",
   "execution_count": 10,
   "metadata": {},
   "outputs": [],
   "source": [
    "df = pd.DataFrame(samples, columns=[\"ang sim\", \"ang sim NG\", \"a\", \"b\", \"diff\"])"
   ]
  },
  {
   "cell_type": "code",
   "execution_count": 11,
   "metadata": {},
   "outputs": [
    {
     "data": {
      "text/html": [
       "<div>\n",
       "<style scoped>\n",
       "    .dataframe tbody tr th:only-of-type {\n",
       "        vertical-align: middle;\n",
       "    }\n",
       "\n",
       "    .dataframe tbody tr th {\n",
       "        vertical-align: top;\n",
       "    }\n",
       "\n",
       "    .dataframe thead th {\n",
       "        text-align: right;\n",
       "    }\n",
       "</style>\n",
       "<table border=\"1\" class=\"dataframe\">\n",
       "  <thead>\n",
       "    <tr style=\"text-align: right;\">\n",
       "      <th></th>\n",
       "      <th>ang sim</th>\n",
       "      <th>ang sim NG</th>\n",
       "      <th>a</th>\n",
       "      <th>b</th>\n",
       "      <th>diff</th>\n",
       "    </tr>\n",
       "  </thead>\n",
       "  <tbody>\n",
       "    <tr>\n",
       "      <th>107</th>\n",
       "      <td>0.100176</td>\n",
       "      <td>1.0</td>\n",
       "      <td>{6104: 2, 9730: 2, 2828: 2, 836: 2, 8194: 79, ...</td>\n",
       "      <td>{7968: 57, 6814: 226, 6087: 134, 5526: 2, 1026...</td>\n",
       "      <td>0.899824</td>\n",
       "    </tr>\n",
       "    <tr>\n",
       "      <th>48</th>\n",
       "      <td>0.100209</td>\n",
       "      <td>1.0</td>\n",
       "      <td>{1: 42, 2: 2, 256: 1, 2368: 64, 257: 1, 3318: ...</td>\n",
       "      <td>{3456: 1, 1: 1, 3242: 6, 7630: 45, 2131: 1, 87...</td>\n",
       "      <td>0.899791</td>\n",
       "    </tr>\n",
       "    <tr>\n",
       "      <th>181</th>\n",
       "      <td>0.100221</td>\n",
       "      <td>1.0</td>\n",
       "      <td>{5055: 140, 8083: 2, 8710: 2, 2336: 1, 15: 2, ...</td>\n",
       "      <td>{1857: 47, 1: 48, 1721: 2, 2: 2, 5430: 161, 20...</td>\n",
       "      <td>0.899779</td>\n",
       "    </tr>\n",
       "    <tr>\n",
       "      <th>8</th>\n",
       "      <td>0.100310</td>\n",
       "      <td>1.0</td>\n",
       "      <td>{2268: 149, 1: 144, 2620: 251, 256: 192, 1321:...</td>\n",
       "      <td>{6541: 16, 65: 46, 7824: 3, 1343: 1, 61: 198, ...</td>\n",
       "      <td>0.899690</td>\n",
       "    </tr>\n",
       "    <tr>\n",
       "      <th>81</th>\n",
       "      <td>0.100407</td>\n",
       "      <td>1.0</td>\n",
       "      <td>{2: 153, 5561: 35, 261: 13, 6490: 218, 2956: 4...</td>\n",
       "      <td>{3: 50, 6426: 93, 2892: 65, 8193: 68, 513: 199...</td>\n",
       "      <td>0.899593</td>\n",
       "    </tr>\n",
       "    <tr>\n",
       "      <th>...</th>\n",
       "      <td>...</td>\n",
       "      <td>...</td>\n",
       "      <td>...</td>\n",
       "      <td>...</td>\n",
       "      <td>...</td>\n",
       "    </tr>\n",
       "    <tr>\n",
       "      <th>40</th>\n",
       "      <td>0.339472</td>\n",
       "      <td>1.0</td>\n",
       "      <td>{1636: 153, 6490: 225, 3342: 240, 8610: 39, 45...</td>\n",
       "      <td>{3149: 100, 5205: 185, 1478: 96, 1992: 46, 751...</td>\n",
       "      <td>0.660528</td>\n",
       "    </tr>\n",
       "    <tr>\n",
       "      <th>202</th>\n",
       "      <td>0.350323</td>\n",
       "      <td>1.0</td>\n",
       "      <td>{515: 211, 1864: 251, 5655: 201, 1093: 186, 34...</td>\n",
       "      <td>{129: 69, 5655: 64, 2892: 148, 7132: 149, 322:...</td>\n",
       "      <td>0.649677</td>\n",
       "    </tr>\n",
       "    <tr>\n",
       "      <th>228</th>\n",
       "      <td>0.352186</td>\n",
       "      <td>1.0</td>\n",
       "      <td>{9616: 172, 9060: 4, 3856: 121, 6747: 117, 366...</td>\n",
       "      <td>{4691: 16, 6104: 60, 836: 77, 4048: 37, 4370: ...</td>\n",
       "      <td>0.647814</td>\n",
       "    </tr>\n",
       "    <tr>\n",
       "      <th>187</th>\n",
       "      <td>0.354845</td>\n",
       "      <td>1.0</td>\n",
       "      <td>{4573: 28, 4948: 170, 9188: 49, 772: 220, 1992...</td>\n",
       "      <td>{5976: 197, 7132: 231, 4948: 37, 1800: 165, 77...</td>\n",
       "      <td>0.645155</td>\n",
       "    </tr>\n",
       "    <tr>\n",
       "      <th>0</th>\n",
       "      <td>0.500000</td>\n",
       "      <td>1.0</td>\n",
       "      <td>{1: 1, 2: 1}</td>\n",
       "      <td>{1: 1}</td>\n",
       "      <td>0.500000</td>\n",
       "    </tr>\n",
       "  </tbody>\n",
       "</table>\n",
       "<p>245 rows × 5 columns</p>\n",
       "</div>"
      ],
      "text/plain": [
       "      ang sim  ang sim NG                                                  a  \\\n",
       "107  0.100176         1.0  {6104: 2, 9730: 2, 2828: 2, 836: 2, 8194: 79, ...   \n",
       "48   0.100209         1.0  {1: 42, 2: 2, 256: 1, 2368: 64, 257: 1, 3318: ...   \n",
       "181  0.100221         1.0  {5055: 140, 8083: 2, 8710: 2, 2336: 1, 15: 2, ...   \n",
       "8    0.100310         1.0  {2268: 149, 1: 144, 2620: 251, 256: 192, 1321:...   \n",
       "81   0.100407         1.0  {2: 153, 5561: 35, 261: 13, 6490: 218, 2956: 4...   \n",
       "..        ...         ...                                                ...   \n",
       "40   0.339472         1.0  {1636: 153, 6490: 225, 3342: 240, 8610: 39, 45...   \n",
       "202  0.350323         1.0  {515: 211, 1864: 251, 5655: 201, 1093: 186, 34...   \n",
       "228  0.352186         1.0  {9616: 172, 9060: 4, 3856: 121, 6747: 117, 366...   \n",
       "187  0.354845         1.0  {4573: 28, 4948: 170, 9188: 49, 772: 220, 1992...   \n",
       "0    0.500000         1.0                                       {1: 1, 2: 1}   \n",
       "\n",
       "                                                     b      diff  \n",
       "107  {7968: 57, 6814: 226, 6087: 134, 5526: 2, 1026...  0.899824  \n",
       "48   {3456: 1, 1: 1, 3242: 6, 7630: 45, 2131: 1, 87...  0.899791  \n",
       "181  {1857: 47, 1: 48, 1721: 2, 2: 2, 5430: 161, 20...  0.899779  \n",
       "8    {6541: 16, 65: 46, 7824: 3, 1343: 1, 61: 198, ...  0.899690  \n",
       "81   {3: 50, 6426: 93, 2892: 65, 8193: 68, 513: 199...  0.899593  \n",
       "..                                                 ...       ...  \n",
       "40   {3149: 100, 5205: 185, 1478: 96, 1992: 46, 751...  0.660528  \n",
       "202  {129: 69, 5655: 64, 2892: 148, 7132: 149, 322:...  0.649677  \n",
       "228  {4691: 16, 6104: 60, 836: 77, 4048: 37, 4370: ...  0.647814  \n",
       "187  {5976: 197, 7132: 231, 4948: 37, 1800: 165, 77...  0.645155  \n",
       "0                                               {1: 1}  0.500000  \n",
       "\n",
       "[245 rows x 5 columns]"
      ]
     },
     "execution_count": 11,
     "metadata": {},
     "output_type": "execute_result"
    }
   ],
   "source": [
    "df.sort_values(by=\"diff\", ascending=False)"
   ]
  },
  {
   "cell_type": "code",
   "execution_count": 12,
   "metadata": {},
   "outputs": [
    {
     "data": {
      "text/plain": [
       "<matplotlib.axes._subplots.AxesSubplot at 0x7f4105310dd0>"
      ]
     },
     "execution_count": 12,
     "metadata": {},
     "output_type": "execute_result"
    },
    {
     "data": {
      "image/png": "[encoded data removed]",
      "text/plain": [
       "<Figure size 432x288 with 1 Axes>"
      ]
     },
     "metadata": {
      "needs_background": "light"
     },
     "output_type": "display_data"
    }
   ],
   "source": [
    "df['diff'].hist()"
   ]
  },
  {
   "cell_type": "code",
   "execution_count": 13,
   "metadata": {},
   "outputs": [
    {
     "data": {
      "text/plain": [
       "5003"
      ]
     },
     "execution_count": 13,
     "metadata": {},
     "output_type": "execute_result"
    }
   ],
   "source": [
    "total_samples"
   ]
  },
  {
   "cell_type": "markdown",
   "metadata": {},
   "source": [
    "## Fixing a_sq calculation"
   ]
  },
  {
   "cell_type": "code",
   "execution_count": 14,
   "metadata": {},
   "outputs": [],
   "source": [
    "def angular_similarity_ng_mk2(a, b, normalize=True):\n",
    "    # simulate a as ng\n",
    "    \n",
    "    a_sq = 0\n",
    "    b_sq = sum([ x*x for x in b.values() ])\n",
    "    \n",
    "    prod = 0.\n",
    "    for h, abund in b.items():\n",
    "        if a.get(h):\n",
    "            a_sq += abund * abund\n",
    "            prod += abund * abund\n",
    "    \n",
    "    if normalize:\n",
    "        norm_a = math.sqrt(a_sq)\n",
    "        norm_b = math.sqrt(b_sq)\n",
    "        if norm_a == 0.0 or norm_b == 0.0:\n",
    "            return 0.0\n",
    "    else:\n",
    "        norm_a = 1.0\n",
    "        norm_b = 1.0\n",
    "    \n",
    "    prod = min(1.0, prod / (norm_a * norm_b))\n",
    "\n",
    "    distance = 2*math.acos(prod) / math.pi\n",
    "    return 1.0 - distance "
   ]
  },
  {
   "cell_type": "code",
   "execution_count": 15,
   "metadata": {},
   "outputs": [],
   "source": [
    "samples_mk2 = []\n",
    "total_samples = 0\n",
    "\n",
    "@settings(max_examples=5000)\n",
    "@given(\n",
    "    st.dictionaries(st.integers(min_value=1, max_value=10000),\n",
    "                    st.integers(min_value=1, max_value=255),\n",
    "                    min_size=100),\n",
    "    st.dictionaries(st.integers(min_value=1, max_value=10000),\n",
    "                    st.integers(min_value=1, max_value=255),\n",
    "                    min_size=100)\n",
    ")\n",
    "@example({1: 1, 2: 2}, {1: 1, 2: 2})\n",
    "@example({1: 1, 2: 1}, {1: 1, 2: 1, 3: 1})\n",
    "@example({1: 1, 2: 1}, {1: 1})\n",
    "def test(a, b):\n",
    "    global total_samples\n",
    "    a_s = angular_similarity(a, b)\n",
    "    a_s_ng = angular_similarity_ng_mk2(a, b)\n",
    "    total_samples += 1\n",
    "    if a_s >= 0.1 and abs(a_s - a_s_ng) > EPSILON:\n",
    "        samples_mk2.append((a_s, a_s_ng, a, b, abs(a_s - a_s_ng)))\n",
    "    assert a_s <= a_s_ng + EPSILON, (a_s, a_s_ng)"
   ]
  },
  {
   "cell_type": "code",
   "execution_count": 16,
   "metadata": {},
   "outputs": [],
   "source": [
    "test()"
   ]
  },
  {
   "cell_type": "code",
   "execution_count": 17,
   "metadata": {},
   "outputs": [],
   "source": [
    "df = pd.DataFrame(samples_mk2, columns=[\"ang sim\", \"ang sim NG\", \"a\", \"b\", \"diff\"])"
   ]
  },
  {
   "cell_type": "code",
   "execution_count": 18,
   "metadata": {},
   "outputs": [
    {
     "data": {
      "text/html": [
       "<div>\n",
       "<style scoped>\n",
       "    .dataframe tbody tr th:only-of-type {\n",
       "        vertical-align: middle;\n",
       "    }\n",
       "\n",
       "    .dataframe tbody tr th {\n",
       "        vertical-align: top;\n",
       "    }\n",
       "\n",
       "    .dataframe thead th {\n",
       "        text-align: right;\n",
       "    }\n",
       "</style>\n",
       "<table border=\"1\" class=\"dataframe\">\n",
       "  <thead>\n",
       "    <tr style=\"text-align: right;\">\n",
       "      <th></th>\n",
       "      <th>ang sim</th>\n",
       "      <th>ang sim NG</th>\n",
       "      <th>a</th>\n",
       "      <th>b</th>\n",
       "      <th>diff</th>\n",
       "    </tr>\n",
       "  </thead>\n",
       "  <tbody>\n",
       "    <tr>\n",
       "      <th>0</th>\n",
       "      <td>0.500000</td>\n",
       "      <td>1.000000</td>\n",
       "      <td>{1: 1, 2: 1}</td>\n",
       "      <td>{1: 1}</td>\n",
       "      <td>0.500000</td>\n",
       "    </tr>\n",
       "    <tr>\n",
       "      <th>69</th>\n",
       "      <td>0.150617</td>\n",
       "      <td>0.611697</td>\n",
       "      <td>{201: 20, 8193: 2, 4868: 5, 1: 2, 9: 2, 7680: ...</td>\n",
       "      <td>{1665: 29, 273: 1, 1: 3, 8484: 6, 1025: 57, 10...</td>\n",
       "      <td>0.461080</td>\n",
       "    </tr>\n",
       "    <tr>\n",
       "      <th>137</th>\n",
       "      <td>0.255547</td>\n",
       "      <td>0.699406</td>\n",
       "      <td>{7817: 233, 1: 25, 2571: 39, 5269: 215, 8867: ...</td>\n",
       "      <td>{9831: 1, 8160: 236, 1: 26, 7389: 205, 5526: 4...</td>\n",
       "      <td>0.443859</td>\n",
       "    </tr>\n",
       "    <tr>\n",
       "      <th>101</th>\n",
       "      <td>0.157636</td>\n",
       "      <td>0.601189</td>\n",
       "      <td>{4898: 232, 1: 55, 8417: 170, 6426: 1, 8674: 2...</td>\n",
       "      <td>{1: 226, 8867: 1, 7839: 97, 1928: 183, 9124: 1...</td>\n",
       "      <td>0.443552</td>\n",
       "    </tr>\n",
       "    <tr>\n",
       "      <th>37</th>\n",
       "      <td>0.112677</td>\n",
       "      <td>0.551372</td>\n",
       "      <td>{958: 56, 1: 1, 2442: 1, 5783: 1, 6490: 7, 900...</td>\n",
       "      <td>{1: 231, 1157: 1, 4434: 108, 6490: 109, 4177: ...</td>\n",
       "      <td>0.438695</td>\n",
       "    </tr>\n",
       "    <tr>\n",
       "      <th>...</th>\n",
       "      <td>...</td>\n",
       "      <td>...</td>\n",
       "      <td>...</td>\n",
       "      <td>...</td>\n",
       "      <td>...</td>\n",
       "    </tr>\n",
       "    <tr>\n",
       "      <th>16</th>\n",
       "      <td>0.130911</td>\n",
       "      <td>0.251638</td>\n",
       "      <td>{9508: 167, 9361: 143, 5590: 2, 1607: 113, 707...</td>\n",
       "      <td>{2057: 36, 5526: 36, 8332: 2, 451: 2, 5333: 23...</td>\n",
       "      <td>0.120727</td>\n",
       "    </tr>\n",
       "    <tr>\n",
       "      <th>24</th>\n",
       "      <td>0.333838</td>\n",
       "      <td>0.448930</td>\n",
       "      <td>{6443: 128, 3277: 1, 1735: 224, 8931: 61, 9510...</td>\n",
       "      <td>{1286: 164, 6554: 139, 9445: 169, 4305: 101, 1...</td>\n",
       "      <td>0.115093</td>\n",
       "    </tr>\n",
       "    <tr>\n",
       "      <th>83</th>\n",
       "      <td>0.114431</td>\n",
       "      <td>0.225736</td>\n",
       "      <td>{8353: 181, 5678: 132, 9445: 52, 7132: 131, 36...</td>\n",
       "      <td>{5508: 241, 8996: 22, 1906: 199, 1800: 154, 53...</td>\n",
       "      <td>0.111305</td>\n",
       "    </tr>\n",
       "    <tr>\n",
       "      <th>185</th>\n",
       "      <td>0.123534</td>\n",
       "      <td>0.231124</td>\n",
       "      <td>{481: 16, 7582: 136, 5512: 65, 439: 136, 1864:...</td>\n",
       "      <td>{836: 180, 419: 229, 3020: 94, 9188: 47, 7646:...</td>\n",
       "      <td>0.107591</td>\n",
       "    </tr>\n",
       "    <tr>\n",
       "      <th>234</th>\n",
       "      <td>0.110641</td>\n",
       "      <td>0.209076</td>\n",
       "      <td>{6767: 64, 8417: 240, 320: 3, 264: 228, 9124: ...</td>\n",
       "      <td>{289: 177, 3663: 5, 1794: 10, 2571: 48, 9: 190...</td>\n",
       "      <td>0.098435</td>\n",
       "    </tr>\n",
       "  </tbody>\n",
       "</table>\n",
       "<p>258 rows × 5 columns</p>\n",
       "</div>"
      ],
      "text/plain": [
       "      ang sim  ang sim NG                                                  a  \\\n",
       "0    0.500000    1.000000                                       {1: 1, 2: 1}   \n",
       "69   0.150617    0.611697  {201: 20, 8193: 2, 4868: 5, 1: 2, 9: 2, 7680: ...   \n",
       "137  0.255547    0.699406  {7817: 233, 1: 25, 2571: 39, 5269: 215, 8867: ...   \n",
       "101  0.157636    0.601189  {4898: 232, 1: 55, 8417: 170, 6426: 1, 8674: 2...   \n",
       "37   0.112677    0.551372  {958: 56, 1: 1, 2442: 1, 5783: 1, 6490: 7, 900...   \n",
       "..        ...         ...                                                ...   \n",
       "16   0.130911    0.251638  {9508: 167, 9361: 143, 5590: 2, 1607: 113, 707...   \n",
       "24   0.333838    0.448930  {6443: 128, 3277: 1, 1735: 224, 8931: 61, 9510...   \n",
       "83   0.114431    0.225736  {8353: 181, 5678: 132, 9445: 52, 7132: 131, 36...   \n",
       "185  0.123534    0.231124  {481: 16, 7582: 136, 5512: 65, 439: 136, 1864:...   \n",
       "234  0.110641    0.209076  {6767: 64, 8417: 240, 320: 3, 264: 228, 9124: ...   \n",
       "\n",
       "                                                     b      diff  \n",
       "0                                               {1: 1}  0.500000  \n",
       "69   {1665: 29, 273: 1, 1: 3, 8484: 6, 1025: 57, 10...  0.461080  \n",
       "137  {9831: 1, 8160: 236, 1: 26, 7389: 205, 5526: 4...  0.443859  \n",
       "101  {1: 226, 8867: 1, 7839: 97, 1928: 183, 9124: 1...  0.443552  \n",
       "37   {1: 231, 1157: 1, 4434: 108, 6490: 109, 4177: ...  0.438695  \n",
       "..                                                 ...       ...  \n",
       "16   {2057: 36, 5526: 36, 8332: 2, 451: 2, 5333: 23...  0.120727  \n",
       "24   {1286: 164, 6554: 139, 9445: 169, 4305: 101, 1...  0.115093  \n",
       "83   {5508: 241, 8996: 22, 1906: 199, 1800: 154, 53...  0.111305  \n",
       "185  {836: 180, 419: 229, 3020: 94, 9188: 47, 7646:...  0.107591  \n",
       "234  {289: 177, 3663: 5, 1794: 10, 2571: 48, 9: 190...  0.098435  \n",
       "\n",
       "[258 rows x 5 columns]"
      ]
     },
     "execution_count": 18,
     "metadata": {},
     "output_type": "execute_result"
    }
   ],
   "source": [
    "df.sort_values(by=\"diff\", ascending=False)"
   ]
  },
  {
   "cell_type": "code",
   "execution_count": 19,
   "metadata": {},
   "outputs": [
    {
     "data": {
      "text/plain": [
       "<matplotlib.axes._subplots.AxesSubplot at 0x7f4107fbdd50>"
      ]
     },
     "execution_count": 19,
     "metadata": {},
     "output_type": "execute_result"
    },
    {
     "data": {
      "image/png": "[encoded data removed]",
      "text/plain": [
       "<Figure size 432x288 with 1 Axes>"
      ]
     },
     "metadata": {
      "needs_background": "light"
     },
     "output_type": "display_data"
    }
   ],
   "source": [
    "df['diff'].hist()"
   ]
  },
  {
   "cell_type": "code",
   "execution_count": 20,
   "metadata": {},
   "outputs": [
    {
     "data": {
      "text/plain": [
       "5003"
      ]
     },
     "execution_count": 20,
     "metadata": {},
     "output_type": "execute_result"
    }
   ],
   "source": [
    "total_samples"
   ]
  }
 ],
 "metadata": {
  "kernelspec": {
   "display_name": "Python3 - mach-nix-jupyter",
   "language": "python",
   "name": "ipython_mach-nix-jupyter"
  },
  "language_info": {
   "codemirror_mode": {
    "name": "ipython",
    "version": 3
   },
   "file_extension": ".py",
   "mimetype": "text/x-python",
   "name": "python",
   "nbconvert_exporter": "python",
   "pygments_lexer": "ipython3",
   "version": "3.7.7"
  }
 },
 "nbformat": 4,
 "nbformat_minor": 4
}
